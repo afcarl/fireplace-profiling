{
 "cells": [
  {
   "cell_type": "code",
   "execution_count": 1,
   "metadata": {
    "collapsed": false,
    "scrolled": true
   },
   "outputs": [],
   "source": [
    "import copy\n",
    "import fp.rollout\n",
    "from fireplace.exceptions import GameOver\n",
    "import logging\n",
    "import random"
   ]
  },
  {
   "cell_type": "code",
   "execution_count": 2,
   "metadata": {
    "collapsed": false
   },
   "outputs": [
    {
     "name": "stdout",
     "output_type": "stream",
     "text": [
      "Game completed normally.\n",
      "Game completed normally.\n",
      "Game completed normally.\n",
      "Game completed normally.\n",
      "Game completed normally.\n",
      "Game completed normally.\n",
      "Game completed normally.\n",
      "Game completed normally.\n",
      "Game completed normally.\n",
      "Game completed normally.\n",
      "Game completed normally.\n",
      "Game completed normally.\n",
      "Game completed normally.\n",
      "Game completed normally.\n",
      "Game completed normally.\n",
      "5 loops, best of 3: 148 ms per loop\n"
     ]
    }
   ],
   "source": [
    "logging.disable(logging.INFO)\n",
    "#logging.basicConfig(level=logging.WARNING)\n",
    "#root_logger = logging.getLogger()\n",
    "#root_logger.disabled = True\n",
    "\n",
    "game = fp.rollout.prepare_game()\n",
    "\n",
    "def run_copy():\n",
    "    try:\n",
    "        game_copy = copy.deepcopy(game)\n",
    "        fp.rollout.play_full_game(game_copy)\n",
    "    except GameOver:\n",
    "        print(\"Game completed normally.\")\n",
    "\n",
    "%timeit -n5 run_copy()"
   ]
  },
  {
   "cell_type": "code",
   "execution_count": null,
   "metadata": {
    "collapsed": false
   },
   "outputs": [],
   "source": [
    "logging.disable(logging.INFO) #logging.NOTSET\n",
    "random.seed(1857)\n",
    "%timeit -n50 fp.rollout.test_full_game()"
   ]
  },
  {
   "cell_type": "markdown",
   "metadata": {
    "collapsed": false
   },
   "source": [
    "### %%prun -s stdname -T rollout_stats_new.txt\n",
    "\n",
    "logging.disable(logging.INFO)\n",
    "random.seed(1857)\n",
    "\n",
    "for _ in range(50):\n",
    "    fp.rollout.test_full_game()\n"
   ]
  },
  {
   "cell_type": "code",
   "execution_count": null,
   "metadata": {
    "collapsed": false
   },
   "outputs": [],
   "source": [
    "import timeit\n",
    "timeit.repeat('import fp; import logging; logging.disable(logging.INFO); fp.rollout.test_full_game()', number=50, repeat=3)"
   ]
  }
 ],
 "metadata": {
  "kernelspec": {
   "display_name": "Python 3",
   "language": "python",
   "name": "python3"
  },
  "language_info": {
   "codemirror_mode": {
    "name": "ipython",
    "version": 3
   },
   "file_extension": ".py",
   "mimetype": "text/x-python",
   "name": "python",
   "nbconvert_exporter": "python",
   "pygments_lexer": "ipython3",
   "version": "3.5.1"
  }
 },
 "nbformat": 4,
 "nbformat_minor": 0
}
